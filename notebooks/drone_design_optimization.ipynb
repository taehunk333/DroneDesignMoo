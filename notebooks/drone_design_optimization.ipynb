{
  "cells": [
    {
      "cell_type": "markdown",
      "metadata": {},
      "source": [
        "# Drone Design Multi-Objective Optimization\n",
        "Interactive notebook to run and analyze drone design optimization using NSGA-II.\n",
        "This notebook imports from the `DroneDesignMoo` package modules."
      ]
    },
    {
      "cell_type": "markdown",
      "id": "c5a5e031",
      "metadata": {},
      "source": [
        "## Explanation\n",
        "- The optimization problem tries to minimize three objectives: \n",
        "  - Negative thrust-to-weight ratio (maximize thrust/weight)\n",
        "  - Negative flight time (maximize flight time)\n",
        "  - Total mass (minimize weight)\n",
        "- Constraints enforce feasible drone design requirements\n",
        "- `run_optimization` handles the NSGA-II algorithm execution\n",
        "- `plot_results` creates a 3D Pareto front and parallel coordinate plots of variables\n",
        "\n",
        "Feel free to modify parameters or code in the modules for further experimentation!"
      ]
    },
    {
      "cell_type": "markdown",
      "id": "20e758ce",
      "metadata": {},
      "source": [
        "# Optimization Setup"
      ]
    },
    {
      "cell_type": "code",
      "execution_count": null,
      "metadata": {},
      "outputs": [],
      "source": [
        "# Imports\n",
        "import numpy as np\n",
        "import matplotlib.pyplot as plt\n",
        "from DroneDesignMoo.problem import DroneOptimizationProblem\n",
        "from DroneDesignMoo.optimizer import run_optimization\n",
        "from DroneDesignMoo.postprocess import (\n",
        "    plot_pareto_front,\n",
        "    plot_decision_variables,\n",
        "    plot_parallel_coordinates,\n",
        "    decode_discrete_vars\n",
        ")\n",
        "\n",
        "# Optional: enable inline plotting\n",
        "%matplotlib inline"
      ]
    },
    {
      "cell_type": "markdown",
      "id": "718f68fc",
      "metadata": {},
      "source": [
        "# Perform Drone Design with Multi-Objective Optimization"
      ]
    },
    {
      "cell_type": "markdown",
      "id": "482d3873",
      "metadata": {},
      "source": [
        "## Setup the optimization problem"
      ]
    },
    {
      "cell_type": "code",
      "execution_count": null,
      "metadata": {},
      "outputs": [],
      "source": [
        "# Optimization parameters (feel free to tweak!)\n",
        "n_gen = 10        # number of generations\n",
        "pop_size = 10000     # population size\n",
        "seed = 42          # random seed for reproducibility"
      ]
    },
    {
      "cell_type": "markdown",
      "id": "3cdf96fb",
      "metadata": {},
      "source": [
        "## Run optimization"
      ]
    },
    {
      "cell_type": "code",
      "execution_count": null,
      "id": "59582f35",
      "metadata": {},
      "outputs": [],
      "source": [
        "# Run optimization\n",
        "res = run_optimization(n_gen=n_gen, pop_size=pop_size, seed=seed)"
      ]
    },
    {
      "cell_type": "markdown",
      "id": "79d2726c",
      "metadata": {},
      "source": [
        "# Postprocess Results"
      ]
    },
    {
      "cell_type": "markdown",
      "id": "3fe25ada",
      "metadata": {},
      "source": [
        "## Define variables"
      ]
    },
    {
      "cell_type": "code",
      "execution_count": null,
      "id": "e4d12d7a",
      "metadata": {},
      "outputs": [],
      "source": [
        "variable_names = [\n",
        "        \"Number of Motors\", \"KV Motor\", \"Motor Current Max (A)\", \"Motor Mass (kg)\",\n",
        "        \"Prop Diameter (m)\", \"Prop Pitch (inch)\", \"Battery Capacity (mAh)\",\n",
        "        \"Battery Voltage (V)\", \"C-rating\", \"Frame Mass (kg)\"\n",
        "    ]"
      ]
    },
    {
      "cell_type": "code",
      "execution_count": null,
      "id": "6b929fa7",
      "metadata": {},
      "outputs": [],
      "source": [
        "X = res.X\n",
        "F = res.F\n",
        "G = res.G\n",
        "\n",
        "X_decoded = decode_discrete_vars(X)\n",
        "feasible_indices = np.where(np.all(G <= 0, axis=1))[0]\n",
        "\n",
        "if len(feasible_indices) == 0:\n",
        "    print(\"No feasible solutions found.\")\n",
        "\n",
        "max_solutions = 5\n",
        "X_feasible = X_decoded[feasible_indices]\n",
        "F_feasible = F[feasible_indices]\n",
        "\n",
        "N = min(len(X_feasible), max_solutions)\n",
        "X_best = X_feasible[:N]\n",
        "F_best = F_feasible[:N]"
      ]
    },
    {
      "cell_type": "markdown",
      "id": "7b827e1f",
      "metadata": {},
      "source": [
        "## Pareto Front (3D)"
      ]
    },
    {
      "cell_type": "code",
      "execution_count": null,
      "id": "f3fd2611",
      "metadata": {},
      "outputs": [],
      "source": [
        "plot_pareto_front(F, feasible_indices, max_solutions)\n"
      ]
    },
    {
      "cell_type": "markdown",
      "id": "7541423c",
      "metadata": {},
      "source": [
        "## Decision variables"
      ]
    },
    {
      "cell_type": "code",
      "execution_count": null,
      "id": "9c4eef62",
      "metadata": {},
      "outputs": [],
      "source": [
        "plot_decision_variables(\n",
        "    X_all=X_decoded,\n",
        "    X_feasible=X_feasible,\n",
        "    F_feasible=F_feasible,\n",
        "    variable_names=variable_names,\n",
        "    max_solutions=5\n",
        ")"
      ]
    },
    {
      "cell_type": "markdown",
      "id": "631f71d0",
      "metadata": {},
      "source": [
        "## Parallel Coordinates Plot"
      ]
    },
    {
      "cell_type": "code",
      "execution_count": null,
      "id": "ceb932bd",
      "metadata": {},
      "outputs": [],
      "source": [
        "plot_parallel_coordinates(X, F, G, variable_names, max_solutions)"
      ]
    }
  ],
  "metadata": {
    "kernelspec": {
      "display_name": "drone_moo_312",
      "language": "python",
      "name": "python3"
    },
    "language_info": {
      "codemirror_mode": {
        "name": "ipython",
        "version": 3
      },
      "file_extension": ".py",
      "mimetype": "text/x-python",
      "name": "python",
      "nbconvert_exporter": "python",
      "pygments_lexer": "ipython3",
      "version": "3.12.11"
    }
  },
  "nbformat": 4,
  "nbformat_minor": 5
}
