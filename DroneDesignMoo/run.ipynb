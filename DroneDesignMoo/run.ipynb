{
 "cells": [
  {
   "cell_type": "markdown",
   "id": "dbf8dd0a",
   "metadata": {},
   "source": [
    "# Drone Design Optimization"
   ]
  },
  {
   "cell_type": "markdown",
   "id": "34ab292b",
   "metadata": {},
   "source": [
    "## Import the packages and libraries"
   ]
  },
  {
   "cell_type": "code",
   "execution_count": 1,
   "id": "f236f287",
   "metadata": {},
   "outputs": [],
   "source": [
    "import numpy as np\n",
    "import matplotlib.pyplot as plt\n",
    "from pymoo.algorithms.moo.nsga2 import NSGA2\n",
    "from pymoo.core.problem import Problem\n",
    "from pymoo.core.termination import NoTermination"
   ]
  }
 ],
 "metadata": {
  "kernelspec": {
   "display_name": "drone_moo_312",
   "language": "python",
   "name": "python3"
  },
  "language_info": {
   "codemirror_mode": {
    "name": "ipython",
    "version": 3
   },
   "file_extension": ".py",
   "mimetype": "text/x-python",
   "name": "python",
   "nbconvert_exporter": "python",
   "pygments_lexer": "ipython3",
   "version": "3.12.11"
  }
 },
 "nbformat": 4,
 "nbformat_minor": 5
}
